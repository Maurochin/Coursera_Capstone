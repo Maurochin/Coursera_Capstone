{
    "cells": [
        {
            "metadata": {},
            "cell_type": "markdown",
            "source": "#### We import all the libraries needed. In this case we are going to web scrapping by BeatifulSoup lib"
        },
        {
            "metadata": {},
            "cell_type": "code",
            "source": "from bs4 import BeautifulSoup\nfrom urllib.parse import quote_plus\nimport csv, re, requests\nimport pandas as pd\nimport numpy as np\nimport urllib.request as urlreq\nprint(\"Libraries imported!\")\n#import matpotlib.plotlib as plt",
            "execution_count": 2,
            "outputs": [
                {
                    "output_type": "stream",
                    "text": "Libraries imported!\n",
                    "name": "stdout"
                }
            ]
        },
        {
            "metadata": {},
            "cell_type": "markdown",
            "source": "First, we put the page in lxml format to read it."
        },
        {
            "metadata": {},
            "cell_type": "code",
            "source": "url=\"https://en.wikipedia.org/wiki/List_of_postal_codes_of_Canada:_M\"\npage=urlreq.urlopen(url)\nsoup = BeautifulSoup(page, \"lxml\")",
            "execution_count": 3,
            "outputs": []
        },
        {
            "metadata": {},
            "cell_type": "markdown",
            "source": "We analize the data"
        },
        {
            "metadata": {},
            "cell_type": "code",
            "source": "##print(soup.prettify())",
            "execution_count": 67,
            "outputs": []
        },
        {
            "metadata": {},
            "cell_type": "markdown",
            "source": "We check the code to find hte table with the data"
        },
        {
            "metadata": {},
            "cell_type": "code",
            "source": "table=soup.find('table', class_='wikitable sortable')\n##table",
            "execution_count": 68,
            "outputs": []
        },
        {
            "metadata": {},
            "cell_type": "markdown",
            "source": "Now we extract the content of each data, we go through each row limited by \"td\" and then check if each row has 3 elements."
        },
        {
            "metadata": {},
            "cell_type": "code",
            "source": "A=[]\nB=[]\nC=[]\n\nfor row in table.findAll('tr'):\n    cells=row.findAll('td')\n    if len(cells)==3:\n            A.append(cells[0].find(text=True))\n            B.append(cells[1].find(text=True))\n            C.append(cells[2].find(text=True))",
            "execution_count": 5,
            "outputs": []
        },
        {
            "metadata": {},
            "cell_type": "markdown",
            "source": "Now, we create ahora dataframe form the lists."
        },
        {
            "metadata": {},
            "cell_type": "code",
            "source": "toronto_df=pd.DataFrame(A,columns=['Postal Code'])\ntoronto_df['Borough']=B\ntoronto_df['Neighborhood']=C",
            "execution_count": 61,
            "outputs": []
        },
        {
            "metadata": {},
            "cell_type": "markdown",
            "source": "I remove the 'Not assigned' rows"
        },
        {
            "metadata": {},
            "cell_type": "code",
            "source": "toronto_df=toronto_df[~toronto_df.Borough.str.contains(\"assigned\")]\ntoronto_df.head()",
            "execution_count": 62,
            "outputs": [
                {
                    "output_type": "execute_result",
                    "execution_count": 62,
                    "data": {
                        "text/plain": "  Postal Code            Borough                                  Neighborhood\n2        M3A\n        North York\n                                    Parkwoods\n\n3        M4A\n        North York\n                             Victoria Village\n\n4        M5A\n  Downtown Toronto\n                    Regent Park, Harbourfront\n\n5        M6A\n        North York\n             Lawrence Manor, Lawrence Heights\n\n6        M7A\n  Downtown Toronto\n  Queen's Park, Ontario Provincial Government",
                        "text/html": "<div>\n<style scoped>\n    .dataframe tbody tr th:only-of-type {\n        vertical-align: middle;\n    }\n\n    .dataframe tbody tr th {\n        vertical-align: top;\n    }\n\n    .dataframe thead th {\n        text-align: right;\n    }\n</style>\n<table border=\"1\" class=\"dataframe\">\n  <thead>\n    <tr style=\"text-align: right;\">\n      <th></th>\n      <th>Postal Code</th>\n      <th>Borough</th>\n      <th>Neighborhood</th>\n    </tr>\n  </thead>\n  <tbody>\n    <tr>\n      <th>2</th>\n      <td>M3A</td>\n      <td>North York</td>\n      <td>Parkwoods</td>\n    </tr>\n    <tr>\n      <th>3</th>\n      <td>M4A</td>\n      <td>North York</td>\n      <td>Victoria Village</td>\n    </tr>\n    <tr>\n      <th>4</th>\n      <td>M5A</td>\n      <td>Downtown Toronto</td>\n      <td>Regent Park, Harbourfront</td>\n    </tr>\n    <tr>\n      <th>5</th>\n      <td>M6A</td>\n      <td>North York</td>\n      <td>Lawrence Manor, Lawrence Heights</td>\n    </tr>\n    <tr>\n      <th>6</th>\n      <td>M7A</td>\n      <td>Downtown Toronto</td>\n      <td>Queen's Park, Ontario Provincial Government</td>\n    </tr>\n  </tbody>\n</table>\n</div>"
                    },
                    "metadata": {}
                }
            ]
        },
        {
            "metadata": {},
            "cell_type": "markdown",
            "source": "I group the data from Postal code joinning the Neighborhood"
        },
        {
            "metadata": {},
            "cell_type": "code",
            "source": "toronto_df=toronto_df.groupby(['Postal Code','Borough'])['Neighborhood'].apply(','.join).reset_index()\ntoronto_df.head()",
            "execution_count": 63,
            "outputs": [
                {
                    "output_type": "execute_result",
                    "execution_count": 63,
                    "data": {
                        "text/plain": "  Postal Code       Borough                              Neighborhood\n0        M1B\n  Scarborough\n                          Malvern, Rouge\\n\n1        M1C\n  Scarborough\n  Rouge Hill, Port Union, Highland Creek\\n\n2        M1E\n  Scarborough\n       Guildwood, Morningside, West Hill\\n\n3        M1G\n  Scarborough\n                                  Woburn\\n\n4        M1H\n  Scarborough\n                               Cedarbrae\\n",
                        "text/html": "<div>\n<style scoped>\n    .dataframe tbody tr th:only-of-type {\n        vertical-align: middle;\n    }\n\n    .dataframe tbody tr th {\n        vertical-align: top;\n    }\n\n    .dataframe thead th {\n        text-align: right;\n    }\n</style>\n<table border=\"1\" class=\"dataframe\">\n  <thead>\n    <tr style=\"text-align: right;\">\n      <th></th>\n      <th>Postal Code</th>\n      <th>Borough</th>\n      <th>Neighborhood</th>\n    </tr>\n  </thead>\n  <tbody>\n    <tr>\n      <th>0</th>\n      <td>M1B</td>\n      <td>Scarborough</td>\n      <td>Malvern, Rouge\\n</td>\n    </tr>\n    <tr>\n      <th>1</th>\n      <td>M1C</td>\n      <td>Scarborough</td>\n      <td>Rouge Hill, Port Union, Highland Creek\\n</td>\n    </tr>\n    <tr>\n      <th>2</th>\n      <td>M1E</td>\n      <td>Scarborough</td>\n      <td>Guildwood, Morningside, West Hill\\n</td>\n    </tr>\n    <tr>\n      <th>3</th>\n      <td>M1G</td>\n      <td>Scarborough</td>\n      <td>Woburn\\n</td>\n    </tr>\n    <tr>\n      <th>4</th>\n      <td>M1H</td>\n      <td>Scarborough</td>\n      <td>Cedarbrae\\n</td>\n    </tr>\n  </tbody>\n</table>\n</div>"
                    },
                    "metadata": {}
                }
            ]
        },
        {
            "metadata": {},
            "cell_type": "markdown",
            "source": "I replace Not assigned values from Neighborhood to the Borough values"
        },
        {
            "metadata": {},
            "cell_type": "code",
            "source": "toronto_df=toronto_df.replace('Not assigned',toronto_df['Borough'])\ntoronto_df.head()",
            "execution_count": 65,
            "outputs": [
                {
                    "output_type": "execute_result",
                    "execution_count": 65,
                    "data": {
                        "text/plain": "  Postal Code       Borough                              Neighborhood\n0        M1B\n  Scarborough\n                          Malvern, Rouge\\n\n1        M1C\n  Scarborough\n  Rouge Hill, Port Union, Highland Creek\\n\n2        M1E\n  Scarborough\n       Guildwood, Morningside, West Hill\\n\n3        M1G\n  Scarborough\n                                  Woburn\\n\n4        M1H\n  Scarborough\n                               Cedarbrae\\n",
                        "text/html": "<div>\n<style scoped>\n    .dataframe tbody tr th:only-of-type {\n        vertical-align: middle;\n    }\n\n    .dataframe tbody tr th {\n        vertical-align: top;\n    }\n\n    .dataframe thead th {\n        text-align: right;\n    }\n</style>\n<table border=\"1\" class=\"dataframe\">\n  <thead>\n    <tr style=\"text-align: right;\">\n      <th></th>\n      <th>Postal Code</th>\n      <th>Borough</th>\n      <th>Neighborhood</th>\n    </tr>\n  </thead>\n  <tbody>\n    <tr>\n      <th>0</th>\n      <td>M1B</td>\n      <td>Scarborough</td>\n      <td>Malvern, Rouge\\n</td>\n    </tr>\n    <tr>\n      <th>1</th>\n      <td>M1C</td>\n      <td>Scarborough</td>\n      <td>Rouge Hill, Port Union, Highland Creek\\n</td>\n    </tr>\n    <tr>\n      <th>2</th>\n      <td>M1E</td>\n      <td>Scarborough</td>\n      <td>Guildwood, Morningside, West Hill\\n</td>\n    </tr>\n    <tr>\n      <th>3</th>\n      <td>M1G</td>\n      <td>Scarborough</td>\n      <td>Woburn\\n</td>\n    </tr>\n    <tr>\n      <th>4</th>\n      <td>M1H</td>\n      <td>Scarborough</td>\n      <td>Cedarbrae\\n</td>\n    </tr>\n  </tbody>\n</table>\n</div>"
                    },
                    "metadata": {}
                }
            ]
        },
        {
            "metadata": {},
            "cell_type": "code",
            "source": "toronto_df.shape",
            "execution_count": 66,
            "outputs": [
                {
                    "output_type": "execute_result",
                    "execution_count": 66,
                    "data": {
                        "text/plain": "(103, 3)"
                    },
                    "metadata": {}
                }
            ]
        },
        {
            "metadata": {},
            "cell_type": "markdown",
            "source": "https://github.com/Maurochin/Coursera_Capstone"
        },
        {
            "metadata": {},
            "cell_type": "code",
            "source": "",
            "execution_count": null,
            "outputs": []
        }
    ],
    "metadata": {
        "kernelspec": {
            "name": "python3",
            "display_name": "Python 3.6",
            "language": "python"
        },
        "language_info": {
            "name": "python",
            "version": "3.6.9",
            "mimetype": "text/x-python",
            "codemirror_mode": {
                "name": "ipython",
                "version": 3
            },
            "pygments_lexer": "ipython3",
            "nbconvert_exporter": "python",
            "file_extension": ".py"
        }
    },
    "nbformat": 4,
    "nbformat_minor": 1
}